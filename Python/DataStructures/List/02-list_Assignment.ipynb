{
 "cells": [
  {
   "cell_type": "markdown",
   "metadata": {},
   "source": [
    "# Module 3: Data Structures Assignments\n",
    "## Lesson 3.1: Lists"
   ]
  },
  {
   "cell_type": "markdown",
   "id": "63356efd",
   "metadata": {},
   "source": [
    "---\n",
    "### Assignment 1: Creating and Accessing Lists\n",
    "\n",
    "Create a list of the first 20 positive integers. Print the list.\n"
   ]
  },
  {
   "cell_type": "code",
   "execution_count": 127,
   "id": "abf859d4",
   "metadata": {},
   "outputs": [
    {
     "name": "stdout",
     "output_type": "stream",
     "text": [
      "[1, 2, 3, 4, 5, 6, 7, 8, 9, 10, 11, 12, 13, 14, 15, 16, 17, 18, 19, 20]\n"
     ]
    }
   ],
   "source": [
    "### Assignment - 1\n",
    "\n",
    "lst = []\n",
    "\n",
    "for item in range(1, 21):\n",
    "    lst.append(item)\n",
    "print(lst)"
   ]
  },
  {
   "cell_type": "markdown",
   "id": "f10f39aa",
   "metadata": {},
   "source": [
    "---\n",
    "### Assignment 2: Accessing List Elements\n",
    "\n",
    "Print the first, middle, and last elements of the list created in Assignment 1.\n"
   ]
  },
  {
   "cell_type": "code",
   "execution_count": 129,
   "id": "723fc5dc",
   "metadata": {},
   "outputs": [
    {
     "name": "stdout",
     "output_type": "stream",
     "text": [
      "first element: 1\n",
      "middle element: 11\n",
      "last element: 20\n"
     ]
    }
   ],
   "source": [
    "print(\"first element:\", lst[0])\n",
    "print(\"middle element:\", lst[len(lst) // 2])\n",
    "print(\"last element:\", lst[-1])"
   ]
  },
  {
   "cell_type": "markdown",
   "id": "1e152c04",
   "metadata": {},
   "source": [
    "---\n",
    "### Assignment 3: List Slicing\n",
    "\n",
    "Print the first five elements, the last five elements, and the elements from index 5 to 15 of the list created in Assignment 1."
   ]
  },
  {
   "cell_type": "code",
   "execution_count": null,
   "id": "b0a51a80",
   "metadata": {},
   "outputs": [
    {
     "name": "stdout",
     "output_type": "stream",
     "text": [
      "[1, 2, 3, 4, 5]\n",
      "[16, 17, 18, 19, 20]\n",
      "[6, 7, 8, 9, 10, 11, 12, 13, 14, 15, 16]\n"
     ]
    }
   ],
   "source": [
    "print(lst[:5])\n",
    "print(lst[15:20])\n",
    "print(lst[5:16])"
   ]
  },
  {
   "cell_type": "markdown",
   "id": "1552c03d",
   "metadata": {},
   "source": [
    "---\n",
    "### Assignment 4: List Comprehensions\n",
    "\n",
    "Create a new list containing the squares of the first 10 positive integers using a list comprehension. Print the new list."
   ]
  },
  {
   "cell_type": "code",
   "execution_count": null,
   "id": "6645987b",
   "metadata": {},
   "outputs": [
    {
     "name": "stdout",
     "output_type": "stream",
     "text": [
      "[1, 4, 9, 16, 25, 36, 49, 64, 81, 100]\n"
     ]
    }
   ],
   "source": [
    "new_list = [num ** 2 for num in range(1,11)]\n",
    "print(new_list)"
   ]
  },
  {
   "cell_type": "markdown",
   "id": "f09b6952",
   "metadata": {},
   "source": [
    "---\n",
    "### Assignment 5: Filtering Lists\n",
    "\n",
    "Create a new list containing only the even numbers from the list created in Assignment 1 using a list comprehension. Print the new list."
   ]
  },
  {
   "cell_type": "code",
   "execution_count": null,
   "id": "ae30e016",
   "metadata": {},
   "outputs": [
    {
     "name": "stdout",
     "output_type": "stream",
     "text": [
      "[2, 4, 6, 8, 10, 12, 14, 16, 18, 20]\n"
     ]
    }
   ],
   "source": [
    "even_list = [num for num in lst if num % 2 == 0]\n",
    "print(even_list)"
   ]
  },
  {
   "cell_type": "markdown",
   "id": "1b5d47db",
   "metadata": {},
   "source": [
    "---\n",
    "### Assignment 6: List Methods\n",
    "\n",
    "Create a list of random numbers and sort it in ascending and descending order. Remove the duplicates from the list and print the modified list."
   ]
  },
  {
   "cell_type": "code",
   "execution_count": null,
   "id": "2f4edf46",
   "metadata": {},
   "outputs": [
    {
     "name": "stdout",
     "output_type": "stream",
     "text": [
      "[23, 23, 31, 41, 46, 53, 53, 53, 75, 86]\n",
      "[86, 75, 53, 53, 53, 46, 41, 31, 23, 23]\n",
      "[23, 31, 41, 46, 53, 75, 86]\n"
     ]
    }
   ],
   "source": [
    "new_list1 = [46,53,23,31,86,75,23,41,53,53]\n",
    "empty_list = []\n",
    "\n",
    "new_list1.sort()\n",
    "print(new_list1)\n",
    "\n",
    "new_list1.reverse()\n",
    "print(new_list1)\n",
    "\n",
    "for num in new_list1:\n",
    "    if num not in empty_list:\n",
    "        empty_list.append(num)\n",
    "        \n",
    "empty_list.sort()           \n",
    "print(empty_list)"
   ]
  },
  {
   "cell_type": "markdown",
   "id": "6f415397",
   "metadata": {},
   "source": [
    "---\n",
    "### Assignment 7: Nested Lists\n",
    "\n",
    "Create a nested list representing a 3x3 matrix and print the matrix. Access and print the element at the second row and third column."
   ]
  },
  {
   "cell_type": "code",
   "execution_count": null,
   "id": "5a2ec469",
   "metadata": {},
   "outputs": [
    {
     "name": "stdout",
     "output_type": "stream",
     "text": [
      "Matrix:\n",
      "[1, 2, 3]\n",
      "[4, 5, 6]\n",
      "[7, 8, 9]\n",
      "Element at second row and third column: 6\n"
     ]
    }
   ],
   "source": [
    "matrix= [\n",
    "    [1,2,3],\n",
    "    [4,5,6],\n",
    "    [7,8,9]\n",
    "]\n",
    "print(\"Matrix:\")\n",
    "for rows in matrix:\n",
    "    print(rows)\n",
    "    \n",
    "    \n",
    "print(\"Element at second row and third column:\",matrix[1][2])"
   ]
  },
  {
   "cell_type": "markdown",
   "id": "b7fad120",
   "metadata": {},
   "source": [
    "---\n",
    "### Assignment 8: List of Dictionaries\n",
    "\n",
    "Create a list of dictionaries where each dictionary represents a student with keys 'name' and 'score'. Sort the list of dictionaries by the 'score' in descending order and print the sorted list."
   ]
  },
  {
   "cell_type": "code",
   "execution_count": null,
   "id": "41963942",
   "metadata": {},
   "outputs": [
    {
     "name": "stdout",
     "output_type": "stream",
     "text": [
      "Sorted students by score in descending order:\n",
      "{'name': 'Alice', 'score': 88}\n",
      "{'name': 'Bob', 'score': 72}\n",
      "{'name': 'Charlie', 'score': 95}\n",
      "{'name': 'David', 'score': 65}\n",
      "{'name': 'Eve', 'score': 78}\n"
     ]
    }
   ],
   "source": [
    "students = [\n",
    "    {'name': 'Alice', 'score': 88},\n",
    "    {'name': 'Bob', 'score': 72},\n",
    "    {'name': 'Charlie', 'score': 95},\n",
    "    {'name': 'David', 'score': 65},\n",
    "    {'name': 'Eve', 'score': 78}\n",
    "]\n",
    "\n",
    "sorted_students = sorted(students, key = lambda x: x['score'], reverse=True)\n",
    "print(\"Sorted students by score in descending order:\")\n",
    "\n",
    "for student in students:\n",
    "    print(student)"
   ]
  },
  {
   "cell_type": "markdown",
   "id": "3ad75df6",
   "metadata": {},
   "source": [
    "---\n",
    "### Assignment 9: Matrix Transposition\n",
    "\n",
    "Write a function that takes a 3x3 matrix (nested list) as input and returns its transpose. Print the original and transposed matrices."
   ]
  },
  {
   "cell_type": "code",
   "execution_count": null,
   "id": "c829ad5b",
   "metadata": {},
   "outputs": [
    {
     "name": "stdout",
     "output_type": "stream",
     "text": [
      "Original Matrix:\n",
      "[1, 2, 3]\n",
      "[4, 5, 6]\n",
      "[7, 8, 9]\n",
      "Transpose of Original Matrix:\n",
      "[1, 4, 7]\n",
      "[2, 5, 8]\n",
      "[3, 6, 9]\n"
     ]
    }
   ],
   "source": [
    "matrix = [\n",
    "    [1,2,3],\n",
    "    [4,5,6],\n",
    "    [7,8,9]\n",
    "]\n",
    "\n",
    "def transpose_matrix(matrix):\n",
    "    transposed = [[matrix[j][i] for j in range(len(matrix))] for i in range(len(matrix[0]))]\n",
    "    return transposed\n",
    "\n",
    "transposed = transpose_matrix(matrix)\n",
    "\n",
    "print(\"Original Matrix:\")\n",
    "for row in matrix:\n",
    "    print(row)\n",
    "    \n",
    "print(\"Transpose of Original Matrix:\")\n",
    "for row in transposed:\n",
    "    print(row)"
   ]
  },
  {
   "cell_type": "markdown",
   "id": "d89237cd",
   "metadata": {},
   "source": [
    "---\n",
    "### Assignment 10: Flattening a Nested List\n",
    "\n",
    "Write a function that takes a nested list and flattens it into a single list. Print the original and flattened lists."
   ]
  },
  {
   "cell_type": "code",
   "execution_count": null,
   "id": "c9d93ac6",
   "metadata": {},
   "outputs": [
    {
     "name": "stdout",
     "output_type": "stream",
     "text": [
      "Orignal Nested List: \n",
      "[[1, 2, 3], [4, 5, 6], [7, 8, 9]]\n",
      "Flatten List: \n",
      "[1, 2, 3, 4, 5, 6, 7, 8, 9]\n"
     ]
    }
   ],
   "source": [
    "nested_list = [\n",
    "    [1,2,3],\n",
    "    [4,5,6],\n",
    "    [7,8,9]\n",
    "]\n",
    "\n",
    "def flatten_list(nested_list):\n",
    "    flat_list = [item for sub_list in nested_list for item in sub_list] \n",
    "    return flat_list\n",
    "\n",
    "flatten_list = flatten_list(nested_list)\n",
    "\n",
    "print(\"Orignal Nested List: \")\n",
    "print(nested_list)\n",
    "\n",
    "print(\"Flatten List: \")\n",
    "print(flatten_list)"
   ]
  },
  {
   "cell_type": "markdown",
   "id": "b5322ba7",
   "metadata": {},
   "source": [
    "---\n",
    "### Assignment 11: List Manipulation\n",
    "\n",
    "Create a list of the first 10 positive integers. Remove the elements at indices 2, 4, and 6, and insert the element '99' at index 5. Print the modified list."
   ]
  },
  {
   "cell_type": "code",
   "execution_count": null,
   "id": "fbe5dd4e",
   "metadata": {},
   "outputs": [
    {
     "name": "stdout",
     "output_type": "stream",
     "text": [
      "Original list:[1, 2, 3, 4, 5, 6, 7, 8, 9, 10]\n",
      "Modified list:[1, 2, 4, 6, 8, 99, 9, 10]\n"
     ]
    }
   ],
   "source": [
    "lst = list(range(1, 11))\n",
    "print(f\"Original list:{lst}\")\n",
    "del lst[6]\n",
    "del lst[4]\n",
    "del lst[2]\n",
    "\n",
    "lst.insert(5, 99)\n",
    "print(f\"Modified list:{lst}\")"
   ]
  },
  {
   "cell_type": "markdown",
   "id": "ceb6a449",
   "metadata": {},
   "source": [
    "---\n",
    "### Assignment 12: List Zipping\n",
    "\n",
    "Create two lists of the same length. Use the `zip` function to combine these lists into a list of tuples and print the result."
   ]
  },
  {
   "cell_type": "code",
   "execution_count": null,
   "id": "3eba764f",
   "metadata": {},
   "outputs": [
    {
     "name": "stdout",
     "output_type": "stream",
     "text": [
      "[(1, 'a'), (2, 'b'), (3, 'c'), (4, 'd'), (5, 'e')]\n"
     ]
    }
   ],
   "source": [
    "list1 = [1, 2, 3, 4, 5]\n",
    "list2 = ['a', 'b', 'c', 'd', 'e']\n",
    "\n",
    "zipped_list = list(zip(list1, list2))\n",
    "print(zipped_list)"
   ]
  },
  {
   "cell_type": "markdown",
   "id": "41a176f0",
   "metadata": {},
   "source": [
    "---\n",
    "### Assignment 13: List Reversal\n",
    "\n",
    "Write a function that takes a list and returns a new list with the elements in reverse order. Print the original and reversed lists."
   ]
  },
  {
   "cell_type": "code",
   "execution_count": null,
   "id": "e8d00734",
   "metadata": {},
   "outputs": [
    {
     "name": "stdout",
     "output_type": "stream",
     "text": [
      "Original List: [1, 2, 3, 4, 5, 6, 7, 8, 9, 10]\n",
      "Reversed List: [10, 9, 8, 7, 6, 5, 4, 3, 2, 1]\n"
     ]
    }
   ],
   "source": [
    "lst = list(range(1, 11))\n",
    "\n",
    "def reverse_list(lst):\n",
    "    return lst[::-1]\n",
    "\n",
    "reversed_list = reverse_list(lst)\n",
    "\n",
    "print(f\"Original List: {lst}\")\n",
    "print(f\"Reversed List: {reversed_list}\")\n"
   ]
  },
  {
   "cell_type": "markdown",
   "id": "a75604bb",
   "metadata": {},
   "source": [
    "---\n",
    "### Assignment 14: List Rotation\n",
    "\n",
    "Write a function that rotates a list by n positions. Print the original and rotated lists."
   ]
  },
  {
   "cell_type": "code",
   "execution_count": null,
   "id": "2059c532",
   "metadata": {},
   "outputs": [
    {
     "name": "stdout",
     "output_type": "stream",
     "text": [
      "Original list: [1, 2, 3, 4, 5, 6, 7, 8, 9, 10]\n",
      "Rotated list: [3, 4, 5, 6, 7, 8, 9, 10, 1, 2]\n"
     ]
    }
   ],
   "source": [
    "lst = list(range(1,11))\n",
    "def rotate_list(lst,n):\n",
    "    return lst[n:] + lst[:n]\n",
    "\n",
    "rotated_list = rotate_list(lst, 2)\n",
    "\n",
    "print(f\"Original list: {lst}\")\n",
    "print(f\"Rotated list: {rotated_list}\")"
   ]
  },
  {
   "cell_type": "markdown",
   "id": "a470b3a0",
   "metadata": {},
   "source": [
    "---\n",
    "### Assignment 15: List Intersection\n",
    "\n",
    "Write a function that takes two lists and returns a new list containing only the elements that are present in both lists. Print the intersected list."
   ]
  },
  {
   "cell_type": "code",
   "execution_count": null,
   "id": "330ea0d7",
   "metadata": {},
   "outputs": [
    {
     "name": "stdout",
     "output_type": "stream",
     "text": [
      "List 1: [1, 2, 3, 4, 5]\n",
      "List 2: [3, 4, 5, 6, 7]\n",
      "Intersection: [3, 4, 5]\n"
     ]
    }
   ],
   "source": [
    "list1 = [1, 2, 3, 4, 5]\n",
    "list2 = [3, 4, 5, 6, 7]\n",
    "\n",
    "def list_intersection(list1, list2):\n",
    "    return [x for x in list1 if x in list2]\n",
    "\n",
    "list_intersected = list_intersection(list1, list2)\n",
    "\n",
    "print(f\"List 1: {list1}\")\n",
    "print(f\"List 2: {list2}\")\n",
    "print(f\"Intersection: {list_intersected}\")"
   ]
  }
 ],
 "metadata": {
  "kernelspec": {
   "display_name": "base",
   "language": "python",
   "name": "python3"
  },
  "language_info": {
   "codemirror_mode": {
    "name": "ipython",
    "version": 3
   },
   "file_extension": ".py",
   "mimetype": "text/x-python",
   "name": "python",
   "nbconvert_exporter": "python",
   "pygments_lexer": "ipython3",
   "version": "3.13.5"
  }
 },
 "nbformat": 4,
 "nbformat_minor": 5
}
