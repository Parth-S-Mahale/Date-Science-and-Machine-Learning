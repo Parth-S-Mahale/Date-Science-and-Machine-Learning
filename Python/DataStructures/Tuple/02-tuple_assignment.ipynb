{
 "cells": [
  {
   "cell_type": "markdown",
   "id": "6cade624",
   "metadata": {},
   "source": [
    "---\n",
    "# Module 3: Data Structures Assignments\n",
    "## Lesson 3.2: Tuples"
   ]
  },
  {
   "cell_type": "markdown",
   "id": "70987e72",
   "metadata": {},
   "source": [
    "---\n",
    "### Assignment 1: Creating and Accessing Tuples\n",
    "\n",
    "Create a tuple with the first 10 positive integers. Print the tuple."
   ]
  },
  {
   "cell_type": "code",
   "execution_count": 2,
   "id": "0fcd6b20",
   "metadata": {},
   "outputs": [
    {
     "name": "stdout",
     "output_type": "stream",
     "text": [
      "(1, 2, 3, 4, 5, 6, 7, 8, 9, 10)\n"
     ]
    }
   ],
   "source": [
    "tpl = tuple(range(1,11))\n",
    "print(tpl)"
   ]
  },
  {
   "cell_type": "markdown",
   "id": "3c74ebc6",
   "metadata": {},
   "source": [
    "---\n",
    "### Assignment 2: Accessing Tuple Elements\n",
    "\n",
    "Print the first, middle, and last elements of the tuple created in Assignment 1."
   ]
  },
  {
   "cell_type": "code",
   "execution_count": 14,
   "id": "ae92881e",
   "metadata": {},
   "outputs": [
    {
     "name": "stdout",
     "output_type": "stream",
     "text": [
      "first element: 1\n",
      "middle element: 6\n",
      "last element: 10\n"
     ]
    }
   ],
   "source": [
    "print(\"first element:\",tpl[0])\n",
    "print(\"middle element:\",tpl[len(tpl) // 2])\n",
    "print(\"last element:\",tpl[-1])"
   ]
  },
  {
   "cell_type": "markdown",
   "id": "d9e64738",
   "metadata": {},
   "source": [
    "---\n",
    "### Assignment 3: Tuple Slicing\n",
    "\n",
    "Print the first three elements, the last three elements, and the elements from index 2 to 5 of the tuple created in Assignment 1."
   ]
  },
  {
   "cell_type": "code",
   "execution_count": 16,
   "id": "0f40fa3c",
   "metadata": {},
   "outputs": [
    {
     "name": "stdout",
     "output_type": "stream",
     "text": [
      "first three elements: (1, 2, 3)\n",
      "last three elements: (8, 9, 10)\n",
      "elements from index 2 to 5: (3, 4, 5, 6)\n"
     ]
    }
   ],
   "source": [
    "print(\"first three elements:\",tpl[:3])\n",
    "print(\"last three elements:\",tpl[7:])\n",
    "print(\"elements from index 2 to 5:\",tpl[2:6])"
   ]
  },
  {
   "cell_type": "markdown",
   "id": "f5a03e4c",
   "metadata": {},
   "source": [
    "---\n",
    "### Assignment 4: Nested Tuples\n",
    "\n",
    "Create a nested tuple representing a 3x3 matrix and print the matrix. Access and print the element at the second row and third column."
   ]
  },
  {
   "cell_type": "code",
   "execution_count": null,
   "id": "7754a53b",
   "metadata": {},
   "outputs": [
    {
     "name": "stdout",
     "output_type": "stream",
     "text": [
      "Matrix:\n",
      "(1, 2, 3)\n",
      "(4, 5, 6)\n",
      "(7, 8, 9)\n",
      "6\n"
     ]
    }
   ],
   "source": [
    "matrix = (\n",
    "    (1,2,3),\n",
    "    (4,5,6),\n",
    "    (7,8,9)\n",
    ")\n",
    "print(\"Matrix:\")\n",
    "for row in matrix:\n",
    "    print(row)\n",
    "    \n",
    "print(matrix[1][2])"
   ]
  },
  {
   "cell_type": "markdown",
   "id": "622f11d0",
   "metadata": {},
   "source": [
    "---\n",
    "### Assignment 5: Tuple Concatenation\n",
    "\n",
    "Concatenate two tuples: (1, 2, 3) and (4, 5, 6). Print the resulting tuple."
   ]
  },
  {
   "cell_type": "code",
   "execution_count": 20,
   "id": "2d189c82",
   "metadata": {},
   "outputs": [
    {
     "name": "stdout",
     "output_type": "stream",
     "text": [
      "(1, 2, 3, 4, 5, 6)\n"
     ]
    }
   ],
   "source": [
    "tpl1 = (1,2,3)\n",
    "tpl2 = (4,5,6)\n",
    "\n",
    "print(tpl1 + tpl2)"
   ]
  },
  {
   "cell_type": "markdown",
   "id": "ca5a6a65",
   "metadata": {},
   "source": [
    "---\n",
    "\n",
    "### Assignment 6: Tuple Methods\n",
    "\n",
    "Create a tuple with duplicate elements and count the occurrences of an element. Find the index of the first occurrence of an element in the tuple."
   ]
  },
  {
   "cell_type": "code",
   "execution_count": 26,
   "id": "dd56ecd3",
   "metadata": {},
   "outputs": [
    {
     "name": "stdout",
     "output_type": "stream",
     "text": [
      "1\n",
      "2\n",
      "5\n"
     ]
    }
   ],
   "source": [
    "duplicate_tpl = (1,2,3,3,4,7,4,5,6,7,7)\n",
    "\n",
    "print(duplicate_tpl.count(2))\n",
    "print(duplicate_tpl.count(3))\n",
    "\n",
    "print(duplicate_tpl.index(7))"
   ]
  },
  {
   "cell_type": "markdown",
   "id": "4d2353fa",
   "metadata": {},
   "source": [
    "---\n",
    "### Assignment 7: Unpacking Tuples\n",
    "\n",
    "Create a tuple with 5 elements and unpack it into 5 variables. Print the variables."
   ]
  },
  {
   "cell_type": "code",
   "execution_count": 30,
   "id": "f916b49c",
   "metadata": {},
   "outputs": [
    {
     "name": "stdout",
     "output_type": "stream",
     "text": [
      "a: 1\n",
      "b: 2\n",
      "c: 3\n",
      "d: 4\n",
      "e: 5\n"
     ]
    }
   ],
   "source": [
    "unpack_tpl = (1,2,3,4,5)\n",
    "\n",
    "a,b,c,d,e = unpack_tpl\n",
    "\n",
    "print(\"a:\",a)\n",
    "print(\"b:\",b)\n",
    "print(\"c:\",c)\n",
    "print(\"d:\",d)\n",
    "print(\"e:\",e)"
   ]
  },
  {
   "cell_type": "markdown",
   "id": "0b4c1d92",
   "metadata": {},
   "source": [
    "---\n",
    "### Assignment 8: Tuple Conversion\n",
    "\n",
    "Convert a list of the first 5 positive integers to a tuple. Print the tuple."
   ]
  },
  {
   "cell_type": "code",
   "execution_count": 31,
   "id": "b60454f2",
   "metadata": {},
   "outputs": [
    {
     "name": "stdout",
     "output_type": "stream",
     "text": [
      "(1, 2, 3, 4, 5)\n"
     ]
    }
   ],
   "source": [
    "lst = [1,2,3,4,5]\n",
    "tpl = tuple(lst)\n",
    "print(tpl)"
   ]
  },
  {
   "cell_type": "markdown",
   "id": "f5f231ee",
   "metadata": {},
   "source": [
    "---\n",
    "### Assignment 9: Tuple of Tuples\n",
    "\n",
    "Create a tuple containing 3 tuples, each with 3 elements. Print the tuple of tuples."
   ]
  },
  {
   "cell_type": "code",
   "execution_count": 33,
   "id": "5043f4d5",
   "metadata": {},
   "outputs": [
    {
     "name": "stdout",
     "output_type": "stream",
     "text": [
      "((1, 2, 3), (4, 5, 6), (7, 8, 9))\n"
     ]
    }
   ],
   "source": [
    "Tuple_tpl = ((1,2,3), (4,5,6), (7,8,9))\n",
    "\n",
    "print(Tuple_tpl)"
   ]
  },
  {
   "cell_type": "markdown",
   "id": "431bf522",
   "metadata": {},
   "source": [
    "---\n",
    "### Assignment 10: Tuple and List\n",
    "\n",
    "Create a tuple with the first 5 positive integers. Convert it to a list, append the number 6, and convert it back to a tuple. Print the resulting tuple."
   ]
  },
  {
   "cell_type": "code",
   "execution_count": 34,
   "id": "7f92bc8c",
   "metadata": {},
   "outputs": [
    {
     "name": "stdout",
     "output_type": "stream",
     "text": [
      "(1, 2, 3, 4, 5, 6)\n"
     ]
    }
   ],
   "source": [
    "tpl = tuple(range(1,6))\n",
    "\n",
    "lst = list(tpl)\n",
    "lst.append(6)\n",
    "\n",
    "tpl = tuple(lst)\n",
    "print(tpl)"
   ]
  },
  {
   "cell_type": "markdown",
   "id": "2597f943",
   "metadata": {},
   "source": [
    "---\n",
    "### Assignment 11: Tuple and String\n",
    "\n",
    "Create a tuple with the characters of a string. Join the tuple elements into a single string. Print the string."
   ]
  },
  {
   "cell_type": "code",
   "execution_count": 39,
   "id": "1d2feee3",
   "metadata": {},
   "outputs": [
    {
     "name": "stdout",
     "output_type": "stream",
     "text": [
      "Parth\n"
     ]
    }
   ],
   "source": [
    "char_tpl = (\"P\", \"a\", \"r\", \"t\", \"h\")\n",
    "tpl_string = ''.join(char_tpl)\n",
    "print(tpl_string)"
   ]
  },
  {
   "cell_type": "markdown",
   "id": "d509d144",
   "metadata": {},
   "source": [
    "---\n",
    "### Assignment 12: Tuple and Dictionary\n",
    "\n",
    "Create a dictionary with tuple keys and integer values. Print the dictionary."
   ]
  },
  {
   "cell_type": "code",
   "execution_count": 44,
   "id": "8680e374",
   "metadata": {},
   "outputs": [
    {
     "name": "stdout",
     "output_type": "stream",
     "text": [
      "{'one': '1', 'two': '2', 'three': '3', 'four': '4', 'five': '5'}\n"
     ]
    }
   ],
   "source": [
    "dict_tpl = {\n",
    "    ('one'):'1',\n",
    "    ('two'):'2',\n",
    "    ('three'):'3',\n",
    "    ('four'):'4',\n",
    "    ('five'):'5',\n",
    "}\n",
    "\n",
    "print(dict_tpl)"
   ]
  },
  {
   "cell_type": "markdown",
   "id": "7b193f34",
   "metadata": {},
   "source": [
    "---\n",
    "### Assignment 13: Nested Tuple Iteration\n",
    "\n",
    "Create a nested tuple and iterate over the elements, printing each element."
   ]
  },
  {
   "cell_type": "code",
   "execution_count": 47,
   "id": "ac851ccd",
   "metadata": {},
   "outputs": [
    {
     "name": "stdout",
     "output_type": "stream",
     "text": [
      "1\n",
      "2\n",
      "3\n",
      "4\n",
      "5\n",
      "6\n",
      "7\n",
      "8\n",
      "9\n"
     ]
    }
   ],
   "source": [
    "nested_tpl = ((1,2,3),(4,5,6),(7,8,9))\n",
    "\n",
    "for sub_tpl in nested_tpl:\n",
    "    for item in sub_tpl:\n",
    "        print(item)"
   ]
  },
  {
   "cell_type": "markdown",
   "id": "6f03078f",
   "metadata": {},
   "source": [
    "---\n",
    "### Assignment 14: Tuple and Set\n",
    "\n",
    "Create a tuple with duplicate elements. Convert it to a set to remove duplicates and print the resulting set."
   ]
  },
  {
   "cell_type": "code",
   "execution_count": 49,
   "id": "3f406ccc",
   "metadata": {},
   "outputs": [
    {
     "name": "stdout",
     "output_type": "stream",
     "text": [
      "{1, 2, 3, 4, 5, 6, 7}\n"
     ]
    }
   ],
   "source": [
    "tpl = (1,1,1,2,3,4,4,5,6,7,7)\n",
    "set_tpl = set(tpl)\n",
    "print(set_tpl)"
   ]
  },
  {
   "cell_type": "markdown",
   "id": "34bd135f",
   "metadata": {},
   "source": [
    "---\n",
    "### Assignment 15: Tuple Functions\n",
    "\n",
    "Write functions that take a tuple and return the minimum, maximum, and sum of the elements. Print the results for a sample tuple."
   ]
  },
  {
   "cell_type": "code",
   "execution_count": 55,
   "id": "692be282",
   "metadata": {},
   "outputs": [
    {
     "name": "stdout",
     "output_type": "stream",
     "text": [
      "Minimum: 1\n",
      "Maxmium: 5\n",
      "Sum: 15\n"
     ]
    }
   ],
   "source": [
    "tpl = (range(1,6))\n",
    "sum = 0\n",
    "print(\"Minimum:\",min(tpl))\n",
    "print(\"Maxmium:\",max(tpl))\n",
    "\n",
    "for num in tpl:\n",
    "    sum += num\n",
    "\n",
    "print(\"Sum:\",sum)    "
   ]
  },
  {
   "cell_type": "code",
   "execution_count": null,
   "id": "efa2a069",
   "metadata": {},
   "outputs": [],
   "source": []
  }
 ],
 "metadata": {
  "kernelspec": {
   "display_name": "base",
   "language": "python",
   "name": "python3"
  },
  "language_info": {
   "codemirror_mode": {
    "name": "ipython",
    "version": 3
   },
   "file_extension": ".py",
   "mimetype": "text/x-python",
   "name": "python",
   "nbconvert_exporter": "python",
   "pygments_lexer": "ipython3",
   "version": "3.13.5"
  }
 },
 "nbformat": 4,
 "nbformat_minor": 5
}
